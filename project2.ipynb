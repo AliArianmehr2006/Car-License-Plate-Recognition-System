{
 "cells": [
  {
   "cell_type": "markdown",
   "id": "8397fdda",
   "metadata": {},
   "source": [
    "# به نام خدا"
   ]
  },
  {
   "cell_type": "markdown",
   "id": "fa81215f",
   "metadata": {},
   "source": [
    "# فاز 1"
   ]
  },
  {
   "cell_type": "code",
   "execution_count": 58,
   "id": "259fd2b9",
   "metadata": {},
   "outputs": [],
   "source": [
    "import cv2\n",
    "import os\n",
    "import xml.etree.ElementTree as ET\n",
    "from tqdm import tqdm"
   ]
  },
  {
   "cell_type": "code",
   "execution_count": 59,
   "id": "49cd300e",
   "metadata": {},
   "outputs": [
    {
     "name": "stderr",
     "output_type": "stream",
     "text": [
      "پردازش تصاویر: 100%|██████████| 217/217 [00:00<00:00, 301.14it/s]"
     ]
    },
    {
     "name": "stdout",
     "output_type": "stream",
     "text": [
      "پردازش فاز اول با موفقیت به پایان رسید. پلاک‌های استخراج شده در پوشه 'output_phase1' ذخیره شدند.\n"
     ]
    },
    {
     "name": "stderr",
     "output_type": "stream",
     "text": [
      "\n"
     ]
    }
   ],
   "source": [
    "\n",
    "\n",
    "def parse_annotation(xml_file):\n",
    "    tree = ET.parse(xml_file)\n",
    "    root = tree.getroot()\n",
    "    \n",
    "    plates = []\n",
    "    for obj in root.findall('object'):\n",
    "        name = obj.find('name').text\n",
    "        if name.lower() == 'vehicle plate':\n",
    "            bndbox = obj.find('bndbox')\n",
    "            xmin = int(bndbox.find('xmin').text)\n",
    "            ymin = int(bndbox.find('ymin').text)\n",
    "            xmax = int(bndbox.find('xmax').text)\n",
    "            ymax = int(bndbox.find('ymax').text)\n",
    "            plates.append((xmin, ymin, xmax, ymax))\n",
    "    \n",
    "    return plates\n",
    "\n",
    "def extract_plates(image_path, annotation_path, output_path):\n",
    "    # خواندن تصویر\n",
    "    image = cv2.imread(image_path)\n",
    "    if image is None:\n",
    "        print(f\"خطا در خواندن تصویر: {image_path}\")\n",
    "        return\n",
    "    \n",
    "    # خواندن آنوتیشن‌ها\n",
    "    plates = parse_annotation(annotation_path)\n",
    "    if not plates:\n",
    "        print(f\"هیچ پلاکی در فایل آنوتیشن یافت نشد: {annotation_path}\")\n",
    "        return\n",
    "    \n",
    "    # استخراج و ذخیره هر پلاک\n",
    "    base_name = os.path.splitext(os.path.basename(image_path))[0]\n",
    "    for i, (xmin, ymin, xmax, ymax) in enumerate(plates):\n",
    "        plate_img = image[ymin:ymax, xmin:xmax]\n",
    "        \n",
    "        # ذخیره پلاک استخراج شده\n",
    "        output_file = os.path.join(output_path, f\"{base_name}.png\")\n",
    "        cv2.imwrite(output_file, plate_img)\n",
    "\n",
    "def process_dataset(base_dir, output_dir):\n",
    "    # مسیرهای ورودی\n",
    "    images_dir = os.path.join(base_dir, \"Vehicle Plates\", \"Vehicle Plates\")\n",
    "    annotations_dir = os.path.join(base_dir, \"Vehicle Plates annotations\", \"Vehicle Plates annotations\")\n",
    "    \n",
    "    # بررسی وجود پوشه‌ها\n",
    "    if not os.path.exists(images_dir):\n",
    "        print(f\"پوشه تصاویر یافت نشد: {images_dir}\")\n",
    "        return\n",
    "    if not os.path.exists(annotations_dir):\n",
    "        print(f\"پوشه آنوتیشن‌ها یافت نشد: {annotations_dir}\")\n",
    "        return\n",
    "    \n",
    "    # لیست تمام فایل‌های تصویر\n",
    "    image_files = [f for f in os.listdir(images_dir) if f.lower().endswith(('.png', '.jpg', '.jpeg'))]\n",
    "    \n",
    "    # ایجاد پوشه خروجی اگر وجود نداشته باشد\n",
    "    os.makedirs(output_dir, exist_ok=True)\n",
    "    \n",
    "    # پردازش هر تصویر با نوار پیشرفت\n",
    "    for img_file in tqdm(image_files, desc=\"پردازش تصاویر\"):\n",
    "        base_name = os.path.splitext(img_file)[0]\n",
    "        image_path = os.path.join(images_dir, img_file)\n",
    "        annotation_path = os.path.join(annotations_dir, f\"{base_name}.xml\")\n",
    "        \n",
    "        if os.path.exists(annotation_path):\n",
    "            extract_plates(image_path, annotation_path, output_dir)\n",
    "        else:\n",
    "            print(f\"فایل آنوتیشن یافت نشد: {annotation_path}\")\n",
    "\n",
    "if __name__ == \"__main__\":\n",
    "    # مسیرهای ورودی و خروجی\n",
    "    base_dir = \"Plates2\"\n",
    "    output_dir = \"output_phase1\"\n",
    "    \n",
    "    # اجرای پردازش\n",
    "    process_dataset(base_dir, output_dir)\n",
    "    \n",
    "    print(f\"پردازش فاز اول با موفقیت به پایان رسید. پلاک‌های استخراج شده در پوشه '{output_dir}' ذخیره شدند.\")"
   ]
  },
  {
   "cell_type": "markdown",
   "id": "0d5c34b7",
   "metadata": {},
   "source": []
  },
  {
   "cell_type": "markdown",
   "id": "029a3767",
   "metadata": {},
   "source": [
    "# فاز 2"
   ]
  },
  {
   "cell_type": "markdown",
   "id": "a0f5693a",
   "metadata": {},
   "source": [
    "### درست کردن کجی و سیاه سفید کردن"
   ]
  },
  {
   "cell_type": "code",
   "execution_count": 18,
   "id": "f24242e1",
   "metadata": {},
   "outputs": [
    {
     "name": "stdout",
     "output_type": "stream",
     "text": [
      "✅ اصلاح زاویه با ترکیب minAreaRect + Hough انجام شد.\n"
     ]
    }
   ],
   "source": [
    "import os\n",
    "import cv2\n",
    "import numpy as np\n",
    "\n",
    "input_folder = 'output_phase1'\n",
    "output_folder = 'output_phase2'\n",
    "\n",
    "if not os.path.exists(output_folder):\n",
    "    os.makedirs(output_folder)\n",
    "\n",
    "def angle_from_min_area_rect(thresh):\n",
    "    contours, _ = cv2.findContours(thresh, cv2.RETR_EXTERNAL, cv2.CHAIN_APPROX_SIMPLE)\n",
    "    if not contours:\n",
    "        return None\n",
    "    largest = max(contours, key=cv2.contourArea)\n",
    "    rect = cv2.minAreaRect(largest)\n",
    "    angle = rect[-1]\n",
    "    if angle < -45:\n",
    "        angle += 90\n",
    "    elif angle > 45:\n",
    "        angle -= 90\n",
    "    return angle\n",
    "\n",
    "def angle_from_hough(gray):\n",
    "    edges = cv2.Canny(gray, 50, 150, apertureSize=3)\n",
    "    lines = cv2.HoughLinesP(edges, 1, np.pi/180, threshold=50, minLineLength=30, maxLineGap=10)\n",
    "    if lines is None:\n",
    "        return None\n",
    "    angles = []\n",
    "    for line in lines:\n",
    "        x1, y1, x2, y2 = line[0]\n",
    "        angle = np.degrees(np.arctan2(y2 - y1, x2 - x1))\n",
    "        if -45 < angle < 45:\n",
    "            angles.append(angle)\n",
    "    if not angles:\n",
    "        return None\n",
    "    return np.median(angles)\n",
    "\n",
    "def correct_skew_combined(gray_image, angle_threshold=3):\n",
    "    # Preprocess\n",
    "    _, thresh = cv2.threshold(gray_image, 0, 255, cv2.THRESH_BINARY + cv2.THRESH_OTSU)\n",
    "    thresh = 255 - thresh\n",
    "\n",
    "    # Step 1: try minAreaRect\n",
    "    angle = angle_from_min_area_rect(thresh)\n",
    "\n",
    "    # Step 2: fallback to HoughLines if angle too small or None\n",
    "    if angle is None or abs(angle) < angle_threshold:\n",
    "        angle = angle_from_hough(gray_image)\n",
    "\n",
    "    # اگر همچنان زاویه معنادار نبود، تصویر را برگردان\n",
    "    if angle is None or abs(angle) < angle_threshold:\n",
    "        return gray_image\n",
    "\n",
    "    # Rotate\n",
    "    (h, w) = gray_image.shape\n",
    "    center = (w // 2, h // 2)\n",
    "    M = cv2.getRotationMatrix2D(center, angle, 1.0)\n",
    "    rotated = cv2.warpAffine(gray_image, M, (w, h), flags=cv2.INTER_CUBIC, borderMode=cv2.BORDER_REPLICATE)\n",
    "    return rotated\n",
    "\n",
    "# پردازش همه تصاویر\n",
    "for filename in os.listdir(input_folder):\n",
    "    if filename.lower().endswith(('.png', '.jpg', '.jpeg', '.bmp')):\n",
    "        path = os.path.join(input_folder, filename)\n",
    "        image = cv2.imread(path)\n",
    "        gray = cv2.cvtColor(image, cv2.COLOR_BGR2GRAY)\n",
    "\n",
    "        corrected = correct_skew_combined(gray)\n",
    "\n",
    "        output_path = os.path.join(output_folder, filename)\n",
    "        cv2.imwrite(output_path, corrected)\n",
    "\n",
    "print(\"✅ اصلاح زاویه با ترکیب minAreaRect + Hough انجام شد.\")\n"
   ]
  },
  {
   "cell_type": "markdown",
   "id": "c85ef098",
   "metadata": {},
   "source": [
    "### در اوردن کاراکتر های هر عکس"
   ]
  },
  {
   "cell_type": "code",
   "execution_count": 45,
   "id": "909979a9",
   "metadata": {},
   "outputs": [
    {
     "name": "stderr",
     "output_type": "stream",
     "text": [
      "پردازش تصاویر: 100%|██████████| 217/217 [00:00<00:00, 474.63it/s]"
     ]
    },
    {
     "name": "stdout",
     "output_type": "stream",
     "text": [
      "کاراکترها با دقت بالا در 'output_phase21' ذخیره شدند.\n"
     ]
    },
    {
     "name": "stderr",
     "output_type": "stream",
     "text": [
      "\n"
     ]
    }
   ],
   "source": [
    "import cv2\n",
    "import os\n",
    "import numpy as np\n",
    "from tqdm import tqdm\n",
    "\n",
    "def extract_characters(image_path, output_dir, img_idx):\n",
    "    \"\"\"استخراج دقیق کاراکترها از تصویر اصلی بدون تغییر\"\"\"\n",
    "    image = cv2.imread(image_path)\n",
    "    if image is None:\n",
    "        return\n",
    "\n",
    "    # تبدیل به خاکستری برای یافتن کانتورها\n",
    "    gray = cv2.cvtColor(image, cv2.COLOR_BGR2GRAY)\n",
    "    \n",
    "    # یافتن کانتورها با حداقل پردازش\n",
    "    _, binary = cv2.threshold(gray, 0, 255, cv2.THRESH_BINARY_INV + cv2.THRESH_OTSU)\n",
    "    contours, _ = cv2.findContours(binary, cv2.RETR_EXTERNAL, cv2.CHAIN_APPROX_SIMPLE)\n",
    "    \n",
    "    # فیلتر کانتورهای نامناسب\n",
    "    chars = []\n",
    "    for cnt in contours:\n",
    "        x, y, w, h = cv2.boundingRect(cnt)\n",
    "        aspect_ratio = w / float(h)\n",
    "        area = cv2.contourArea(cnt)\n",
    "        \n",
    "        # شرایط اصلی برای تشخیص کاراکتر\n",
    "        if (20 < w < 150 and 40 < h < 200 and \n",
    "            0.15 < aspect_ratio < 1.5 and \n",
    "            area > 200):\n",
    "            chars.append((x, y, w, h))\n",
    "\n",
    "    # اگر کاراکتر کافی نبود، تقسیم مساوی\n",
    "    if len(chars) < 8:\n",
    "        h, w = gray.shape\n",
    "        char_width = w // 8\n",
    "        chars = [(i*char_width, 0, char_width, h) for i in range(8)]\n",
    "\n",
    "    # مرتب‌سازی و ذخیره\n",
    "    chars = sorted(chars[:8], key=lambda c: c[0])\n",
    "    \n",
    "    for i, (x, y, w, h) in enumerate(chars, start=1):\n",
    "        char_img = image[y:y+h, x:x+w]  # استفاده از تصویر اصلی بدون تغییر\n",
    "        output_path = os.path.join(output_dir, f\"{img_idx}.{i}.png\")\n",
    "        cv2.imwrite(output_path, char_img)\n",
    "\n",
    "def process_phase21(input_dir, output_dir):\n",
    "    os.makedirs(output_dir, exist_ok=True)\n",
    "    image_files = [f for f in os.listdir(input_dir) if f.lower().endswith(('.png', '.jpg', '.jpeg'))]\n",
    "    \n",
    "    for idx, img_file in enumerate(tqdm(image_files, desc=\"پردازش تصاویر\"), start=1):\n",
    "        input_path = os.path.join(input_dir, img_file)\n",
    "        extract_characters(input_path, output_dir, idx)\n",
    "\n",
    "if __name__ == \"__main__\":\n",
    "    input_dir = \"output_phase2\"\n",
    "    output_dir = \"output_phase21\"\n",
    "    process_phase21(input_dir, output_dir)\n",
    "    print(f\"کاراکترها با دقت بالا در '{output_dir}' ذخیره شدند.\")"
   ]
  },
  {
   "cell_type": "code",
   "execution_count": 46,
   "id": "bc76c941",
   "metadata": {},
   "outputs": [
    {
     "name": "stderr",
     "output_type": "stream",
     "text": [
      "پردازش تصاویر: 100%|██████████| 217/217 [00:00<00:00, 479.40it/s]"
     ]
    },
    {
     "name": "stdout",
     "output_type": "stream",
     "text": [
      "کاراکترها با ترتیب صحیح در 'output_phase21' ذخیره شدند.\n"
     ]
    },
    {
     "name": "stderr",
     "output_type": "stream",
     "text": [
      "\n"
     ]
    }
   ],
   "source": [
    "import cv2\n",
    "import os\n",
    "import numpy as np\n",
    "from tqdm import tqdm\n",
    "\n",
    "def extract_characters(image_path, output_dir, img_idx):\n",
    "    \"\"\"استخراج دقیق کاراکترها از تصویر اصلی با ترتیب خاص\"\"\"\n",
    "    image = cv2.imread(image_path)\n",
    "    if image is None:\n",
    "        return\n",
    "\n",
    "    # تبدیل به خاکستری برای یافتن کانتورها\n",
    "    gray = cv2.cvtColor(image, cv2.COLOR_BGR2GRAY)\n",
    "    \n",
    "    # یافتن کانتورها با حداقل پردازش\n",
    "    _, binary = cv2.threshold(gray, 0, 255, cv2.THRESH_BINARY_INV + cv2.THRESH_OTSU)\n",
    "    contours, _ = cv2.findContours(binary, cv2.RETR_EXTERNAL, cv2.CHAIN_APPROX_SIMPLE)\n",
    "    \n",
    "    # فیلتر کانتورهای نامناسب\n",
    "    chars = []\n",
    "    for cnt in contours:\n",
    "        x, y, w, h = cv2.boundingRect(cnt)\n",
    "        aspect_ratio = w / float(h)\n",
    "        area = cv2.contourArea(cnt)\n",
    "        \n",
    "        # شرایط اصلی برای تشخیص کاراکتر\n",
    "        if (20 < w < 150 and 40 < h < 200 and \n",
    "            0.15 < aspect_ratio < 1.5 and \n",
    "            area > 200):\n",
    "            chars.append((x, y, w, h))\n",
    "\n",
    "    # اگر کاراکتر کافی نبود، تقسیم مساوی\n",
    "    if len(chars) < 8:\n",
    "        h, w = gray.shape\n",
    "        char_width = w // 8\n",
    "        chars = [(i*char_width, 0, char_width, h) for i in range(8)]\n",
    "\n",
    "    # مرتب‌سازی بر اساس موقعیت x و محدود کردن به 8 کاراکتر\n",
    "    chars = sorted(chars[:8], key=lambda c: c[0])\n",
    "    \n",
    "    # ذخیره کاراکترها با نام‌گذاری مناسب برای ترتیب مورد نظر\n",
    "    for i, (x, y, w, h) in enumerate(chars, start=1):\n",
    "        char_img = image[y:y+h, x:x+w]\n",
    "        \n",
    "        # تعیین نوع کاراکتر بر اساس موقعیت آن\n",
    "        if i == 1 or i == 2 or i >= 4:  # کاراکترهای عددی\n",
    "            output_path = os.path.join(output_dir, f\"{img_idx}.{i}.number.png\")\n",
    "        elif i == 3:  # کاراکتر حرفی\n",
    "            output_path = os.path.join(output_dir, f\"{img_idx}.{i}.letter.png\")\n",
    "        \n",
    "        cv2.imwrite(output_path, char_img)\n",
    "\n",
    "def process_phase21(input_dir, output_dir):\n",
    "    os.makedirs(output_dir, exist_ok=True)\n",
    "    image_files = [f for f in os.listdir(input_dir) if f.lower().endswith(('.png', '.jpg', '.jpeg'))]\n",
    "    \n",
    "    for idx, img_file in enumerate(tqdm(image_files, desc=\"پردازش تصاویر\"), start=1):\n",
    "        input_path = os.path.join(input_dir, img_file)\n",
    "        extract_characters(input_path, output_dir, idx)\n",
    "\n",
    "if __name__ == \"__main__\":\n",
    "    input_dir = \"output_phase2\"\n",
    "    output_dir = \"output_phase21\"\n",
    "    process_phase21(input_dir, output_dir)\n",
    "    print(f\"کاراکترها با ترتیب صحیح در '{output_dir}' ذخیره شدند.\")"
   ]
  }
 ],
 "metadata": {
  "kernelspec": {
   "display_name": "Python 3",
   "language": "python",
   "name": "python3"
  },
  "language_info": {
   "codemirror_mode": {
    "name": "ipython",
    "version": 3
   },
   "file_extension": ".py",
   "mimetype": "text/x-python",
   "name": "python",
   "nbconvert_exporter": "python",
   "pygments_lexer": "ipython3",
   "version": "3.13.5"
  }
 },
 "nbformat": 4,
 "nbformat_minor": 5
}
